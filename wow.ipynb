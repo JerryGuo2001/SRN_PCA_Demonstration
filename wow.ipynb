{
 "cells": [
  {
   "cell_type": "code",
   "execution_count": 3,
   "metadata": {},
   "outputs": [
    {
     "name": "stdout",
     "output_type": "stream",
     "text": [
      "Columns in the DataFrame: Index(['Density (⟨k⟩)', 'Degree Variance', 'Average Neighbor Degree (⟨kn⟩)',\n",
      "       'Neighbor Degree Variance', 'Average Clustering Coefficient (⟨C⟩)',\n",
      "       'Clustering Coefficient Variance', 'Degree Correlation (r)',\n",
      "       'Degree Correlation Elasticity (re)', 'Rich Club Metric (⟨rc⟩)',\n",
      "       'Rich Club Variance', 'Largest Component Size (smax)',\n",
      "       'Number of Modules (μ)', 'Average Node Betweenness (⟨wn⟩)',\n",
      "       'Node Betweenness Variance', 'Average Edge Betweenness (⟨we⟩)',\n",
      "       'Edge Betweenness Variance', 'Average Closeness (⟨cl⟩)',\n",
      "       'Closeness Variance', 'Average Path Length (⟨l⟩)', 'Diameter (d)',\n",
      "       'Distance Distribution Mean (⟨dd⟩)', 'Distance Distribution Variance',\n",
      "       '3-loops (l3)', '4-Cliques (c4)', '4-Stars (s4)', 'Graph Energy (G)',\n",
      "       'Average EigenCentrality (⟨eC⟩)', 'EigenCentrality Variance',\n",
      "       'Algebraic Connectivity (a)', 'graph_id', 'node_count'],\n",
      "      dtype='object')\n",
      "Column 'graph_structure' not found!\n",
      "CSV to JSON conversion complete!\n"
     ]
    }
   ],
   "source": [
    "import pandas as pd\n",
    "\n",
    "# Read the CSV file\n",
    "df = pd.read_csv(\"graph_metrics_graphid_PCA.csv\")\n",
    "\n",
    "# Check the columns of the DataFrame\n",
    "print(\"Columns in the DataFrame:\", df.columns)\n",
    "\n",
    "# If the column name is different, use the correct column name\n",
    "# For example, if the column is actually 'structure' or something similar, update the code accordingly\n",
    "if 'graph_structure' in df.columns:\n",
    "    df[\"graph_structure\"] = df[\"graph_structure\"].apply(eval)  # Convert string to list if needed\n",
    "else:\n",
    "    print(\"Column 'graph_structure' not found!\")\n",
    "\n",
    "# Convert the DataFrame to a JSON file\n",
    "df.to_json(\"graph_metrics_graphid_PCA.json\", orient=\"records\", lines=True)\n",
    "\n",
    "print(\"CSV to JSON conversion complete!\")\n"
   ]
  }
 ],
 "metadata": {
  "kernelspec": {
   "display_name": "3.8.18",
   "language": "python",
   "name": "python3"
  },
  "language_info": {
   "codemirror_mode": {
    "name": "ipython",
    "version": 3
   },
   "file_extension": ".py",
   "mimetype": "text/x-python",
   "name": "python",
   "nbconvert_exporter": "python",
   "pygments_lexer": "ipython3",
   "version": "3.11.7"
  }
 },
 "nbformat": 4,
 "nbformat_minor": 2
}
