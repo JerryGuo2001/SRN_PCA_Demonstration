{
 "cells": [
  {
   "cell_type": "code",
   "execution_count": 1,
   "metadata": {},
   "outputs": [
    {
     "name": "stdout",
     "output_type": "stream",
     "text": [
      "   Density (⟨k⟩)  Degree Variance  Average Neighbor Degree (⟨kn⟩)  \\\n",
      "0       0.695238         0.013395                        9.954702   \n",
      "1       0.961905         0.001270                       13.487179   \n",
      "2       0.914286         0.003537                       12.862671   \n",
      "3       0.971429         0.001905                       13.631380   \n",
      "4       0.895238         0.004671                       12.612854   \n",
      "\n",
      "   Neighbor Degree Variance  Average Clustering Coefficient (⟨C⟩)  \\\n",
      "0                  0.108704                              0.650274   \n",
      "1                  0.003006                              0.958974   \n",
      "2                  0.019532                              0.911082   \n",
      "3                  0.008144                              0.971884   \n",
      "4                  0.010493                              0.891280   \n",
      "\n",
      "   Clustering Coefficient Variance  Degree Correlation (r)  \\\n",
      "0                         0.003747               -0.126043   \n",
      "1                         0.000008               -0.109890   \n",
      "2                         0.000225               -0.154586   \n",
      "3                         0.000059               -0.143873   \n",
      "4                         0.000114               -0.090654   \n",
      "\n",
      "   Degree Correlation Elasticity (re)  Rich Club Metric (⟨rc⟩)  \\\n",
      "0                                   5                 0.728560   \n",
      "1                                   1                 0.964626   \n",
      "2                                   3                 0.924769   \n",
      "3                                   2                 0.974725   \n",
      "4                                   3                 0.914440   \n",
      "\n",
      "   Rich Club Variance  ...  4-Cliques (c4)  4-Stars (s4)  Graph Energy (G)  \\\n",
      "0            0.002433  ...              16            15         30.266799   \n",
      "1            0.000096  ...               0            15         26.966630   \n",
      "2            0.000564  ...               0            15         28.373368   \n",
      "3            0.000070  ...               0            15         28.055382   \n",
      "4            0.001450  ...               0            15         29.757832   \n",
      "\n",
      "   Average EigenCentrality (⟨eC⟩)  EigenCentrality Variance  \\\n",
      "0                        0.255893                  0.001185   \n",
      "1                        0.258055                  0.000074   \n",
      "2                        0.257784                  0.000214   \n",
      "3                        0.257996                  0.000105   \n",
      "4                        0.257558                  0.000331   \n",
      "\n",
      "   Algebraic Connectivity (a)  graph_id  \\\n",
      "0      (6.537432893158877+0j)         0   \n",
      "1     (12.999999999999986+0j)         1   \n",
      "2     (10.561716760597117+0j)         2   \n",
      "3     (11.999999999999996+0j)         3   \n",
      "4     (10.371348718257245+0j)         4   \n",
      "\n",
      "                                     graph_structure       PC1       PC2  \n",
      "0  [0, 1, 1, 1, 1, 1, 1, 0, 1, 1, 1, 0, 1, 1, 1, ... -2.245909 -0.748091  \n",
      "1  [0, 1, 1, 1, 1, 1, 1, 1, 1, 1, 1, 1, 1, 1, 1, ... -5.609761  3.607314  \n",
      "2  [0, 0, 1, 1, 1, 1, 1, 1, 0, 1, 1, 1, 1, 0, 1, ... -4.647985  2.140783  \n",
      "3  [0, 1, 1, 1, 1, 1, 1, 1, 1, 1, 1, 1, 1, 1, 0, ... -5.620831  3.174550  \n",
      "4  [0, 0, 1, 1, 1, 1, 1, 0, 1, 1, 1, 1, 1, 1, 1, ... -4.528096  1.831612  \n",
      "\n",
      "[5 rows x 32 columns]\n"
     ]
    }
   ],
   "source": [
    "\n",
    "import pandas as pd\n",
    "df = pd.read_csv(\"graph_metrics_graphid_PCA.csv\")\n",
    "print(df.head())  # Check if \"graph_structure\" is present\n",
    "\n",
    "df[\"graph_structure\"] = df[\"graph_structure\"].apply(eval)  # Convert string to list if needed\n",
    "df.to_json(\"graph_metrics_graphid_PCA.json\", orient=\"records\")\n",
    "\n",
    "\n"
   ]
  }
 ],
 "metadata": {
  "kernelspec": {
   "display_name": "3.8.18",
   "language": "python",
   "name": "python3"
  },
  "language_info": {
   "codemirror_mode": {
    "name": "ipython",
    "version": 3
   },
   "file_extension": ".py",
   "mimetype": "text/x-python",
   "name": "python",
   "nbconvert_exporter": "python",
   "pygments_lexer": "ipython3",
   "version": "3.8.18"
  }
 },
 "nbformat": 4,
 "nbformat_minor": 2
}
