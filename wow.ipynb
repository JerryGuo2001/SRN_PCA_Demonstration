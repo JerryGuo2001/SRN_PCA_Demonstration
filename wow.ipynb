{
 "cells": [
  {
   "cell_type": "code",
   "execution_count": 9,
   "metadata": {},
   "outputs": [
    {
     "name": "stdout",
     "output_type": "stream",
     "text": [
      "Columns in the DataFrame: Index(['Density (⟨k⟩)', 'Degree Variance', 'Average Neighbor Degree (⟨kn⟩)',\n",
      "       'Neighbor Degree Variance', 'Average Clustering Coefficient (⟨C⟩)',\n",
      "       'Clustering Coefficient Variance', 'Degree Correlation (r)',\n",
      "       'Degree Correlation Elasticity (re)', 'Rich Club Metric (⟨rc⟩)',\n",
      "       'Rich Club Variance', 'Largest Component Size (smax)',\n",
      "       'Number of Modules (μ)', 'Average Node Betweenness (⟨wn⟩)',\n",
      "       'Node Betweenness Variance', 'Average Edge Betweenness (⟨we⟩)',\n",
      "       'Edge Betweenness Variance', 'Average Closeness (⟨cl⟩)',\n",
      "       'Closeness Variance', 'Average Path Length (⟨l⟩)', 'Diameter (d)',\n",
      "       'Distance Distribution Mean (⟨dd⟩)', 'Distance Distribution Variance',\n",
      "       '3-loops (l3)', '4-Cliques (c4)', '4-Stars (s4)', 'Graph Energy (G)',\n",
      "       'Average EigenCentrality (⟨eC⟩)', 'EigenCentrality Variance',\n",
      "       'Algebraic Connectivity (a)', 'graph_structure', 'graph_id',\n",
      "       'node_count'],\n",
      "      dtype='object')\n"
     ]
    },
    {
     "name": "stderr",
     "output_type": "stream",
     "text": [
      "/var/folders/p0/c1wj7grd6lb721vh0hbl8cq80000gn/T/ipykernel_87566/3290523041.py:25: FutureWarning: DataFrame.applymap has been deprecated. Use DataFrame.map instead.\n",
      "  df = df.applymap(convert_to_real)\n"
     ]
    },
    {
     "name": "stdout",
     "output_type": "stream",
     "text": [
      "CSV to JSON conversion complete!\n"
     ]
    }
   ],
   "source": [
    "import pandas as pd\n",
    "import ast\n",
    "\n",
    "# Read the CSV file\n",
    "df = pd.read_csv(\"graph_metrics_graphid_PCA.csv\")\n",
    "\n",
    "# Check the columns of the DataFrame\n",
    "print(\"Columns in the DataFrame:\", df.columns)\n",
    "\n",
    "# Function to convert values to real numbers and round them to 2 decimals\n",
    "def convert_to_real(x):\n",
    "    try:\n",
    "        # Convert strings that represent complex numbers to real numbers\n",
    "        if isinstance(x, str) and '(' in x and ')' in x:\n",
    "            return round(float(ast.literal_eval(x).real), 2)\n",
    "        # Otherwise, convert to float and round to 2 decimals\n",
    "        return round(float(x), 2)\n",
    "    except:\n",
    "        return x  # In case it's a non-numeric value like a list or string\n",
    "\n",
    "# Remove any non-numeric characters from column names (e.g., 'Density (\\u27e8k\\u27e9)' => 'Density')\n",
    "df.columns = df.columns.str.replace(r'[^\\x00-\\x7F]+', '', regex=True)\n",
    "\n",
    "# Apply conversion to all values in the DataFrame\n",
    "df = df.applymap(convert_to_real)\n",
    "\n",
    "# If 'graph_structure' exists, convert it from string to a list\n",
    "if 'graph_structure' in df.columns:\n",
    "    df[\"graph_structure\"] = df[\"graph_structure\"].apply(eval)  # Convert string to list if needed\n",
    "else:\n",
    "    print(\"Column 'graph_structure' not found!\")\n",
    "\n",
    "# Convert the DataFrame to a JSON file\n",
    "df.to_json(\"graph_metrics_graphid_PCA.json\", orient=\"records\", lines=True)\n",
    "\n",
    "print(\"CSV to JSON conversion complete!\")\n"
   ]
  }
 ],
 "metadata": {
  "kernelspec": {
   "display_name": "3.8.18",
   "language": "python",
   "name": "python3"
  },
  "language_info": {
   "codemirror_mode": {
    "name": "ipython",
    "version": 3
   },
   "file_extension": ".py",
   "mimetype": "text/x-python",
   "name": "python",
   "nbconvert_exporter": "python",
   "pygments_lexer": "ipython3",
   "version": "3.11.7"
  }
 },
 "nbformat": 4,
 "nbformat_minor": 2
}
